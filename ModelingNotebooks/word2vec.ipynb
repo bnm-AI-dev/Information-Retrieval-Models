{
 "cells": [
  {
   "cell_type": "code",
   "execution_count": 5,
   "id": "71b06c53-0b47-4b1c-8b56-12a1a328375a",
   "metadata": {},
   "outputs": [],
   "source": [
    "import pandas as pd\n",
    "import re\n",
    "import string\n",
    "import numpy as np\n",
    "\n",
    "# libraries for visualizations\n",
    "import seaborn as sns\n",
    "import matplotlib.pyplot as plt\n",
    "\n",
    "# Removes the limit for the number of displayed columns\n",
    "pd.set_option(\"display.max_columns\", None)\n",
    "# Sets the limit for the number of displayed rows\n",
    "pd.set_option(\"display.max_rows\", 200)\n",
    "\n",
    "from sklearn import metrics\n",
    "from sklearn.model_selection import train_test_split\n",
    "from sklearn.metrics import confusion_matrix\n",
    "from sklearn.naive_bayes import MultinomialNB\n",
    "from sklearn.feature_extraction.text import CountVectorizer\n",
    "from sklearn.feature_extraction.text import TfidfVectorizer\n",
    "import re\n",
    "from nltk.corpus import stopwords\n",
    "from nltk.stem.porter import PorterStemmer\n",
    "from sklearn.metrics.pairwise import cosine_similarity\n",
    "\n",
    "# Library to suppress warnings or deprecation notes\n",
    "import warnings\n",
    "\n",
    "warnings.filterwarnings(\"ignore\")"
   ]
  },
  {
   "cell_type": "code",
   "execution_count": 6,
   "id": "15237dd6-53c4-4ada-bb66-fc9e5b6b85d2",
   "metadata": {},
   "outputs": [],
   "source": [
    "# load the data\n",
    "news = pd.read_csv('data/articles1.csv')\n",
    "news2 = pd.read_csv('data/articles3.csv')\n",
    "df_test = pd.read_csv('data/articles2.csv')"
   ]
  },
  {
   "cell_type": "code",
   "execution_count": 7,
   "id": "e71dbce4-b197-4b9b-b5b2-77359eeb0e8e",
   "metadata": {},
   "outputs": [],
   "source": [
    "# reset the index\n",
    "news.reset_index(drop=True, inplace=True)\n",
    "news2.reset_index(drop=True, inplace=True)\n",
    "df_test.reset_index(drop=True, inplace=True)\n",
    "\n",
    "# drop the unnamed column\n",
    "news.drop(columns='Unnamed: 0', inplace=True)\n",
    "news2.drop(columns='Unnamed: 0', inplace=True)\n",
    "df_test.drop(columns='Unnamed: 0', inplace=True)\n",
    "\n"
   ]
  },
  {
   "cell_type": "code",
   "execution_count": 10,
   "id": "f6f1be3e-dde5-49a1-bb0b-6ba24b430456",
   "metadata": {},
   "outputs": [
    {
     "data": {
      "text/html": [
       "<div>\n",
       "<style scoped>\n",
       "    .dataframe tbody tr th:only-of-type {\n",
       "        vertical-align: middle;\n",
       "    }\n",
       "\n",
       "    .dataframe tbody tr th {\n",
       "        vertical-align: top;\n",
       "    }\n",
       "\n",
       "    .dataframe thead th {\n",
       "        text-align: right;\n",
       "    }\n",
       "</style>\n",
       "<table border=\"1\" class=\"dataframe\">\n",
       "  <thead>\n",
       "    <tr style=\"text-align: right;\">\n",
       "      <th></th>\n",
       "      <th>id</th>\n",
       "      <th>title</th>\n",
       "      <th>content</th>\n",
       "    </tr>\n",
       "  </thead>\n",
       "  <tbody>\n",
       "    <tr>\n",
       "      <th>0</th>\n",
       "      <td>17283</td>\n",
       "      <td>House Republicans Fret About Winning Their Hea...</td>\n",
       "      <td>WASHINGTON  —   Congressional Republicans have...</td>\n",
       "    </tr>\n",
       "    <tr>\n",
       "      <th>1</th>\n",
       "      <td>17284</td>\n",
       "      <td>Rift Between Officers and Residents as Killing...</td>\n",
       "      <td>After the bullet shells get counted, the blood...</td>\n",
       "    </tr>\n",
       "    <tr>\n",
       "      <th>2</th>\n",
       "      <td>17285</td>\n",
       "      <td>Tyrus Wong, ‘Bambi’ Artist Thwarted by Racial ...</td>\n",
       "      <td>When Walt Disney’s “Bambi” opened in 1942, cri...</td>\n",
       "    </tr>\n",
       "    <tr>\n",
       "      <th>3</th>\n",
       "      <td>17286</td>\n",
       "      <td>Among Deaths in 2016, a Heavy Toll in Pop Musi...</td>\n",
       "      <td>Death may be the great equalizer, but it isn’t...</td>\n",
       "    </tr>\n",
       "    <tr>\n",
       "      <th>4</th>\n",
       "      <td>17287</td>\n",
       "      <td>Kim Jong-un Says North Korea Is Preparing to T...</td>\n",
       "      <td>SEOUL, South Korea  —   North Korea’s leader, ...</td>\n",
       "    </tr>\n",
       "  </tbody>\n",
       "</table>\n",
       "</div>"
      ],
      "text/plain": [
       "      id                                              title  \\\n",
       "0  17283  House Republicans Fret About Winning Their Hea...   \n",
       "1  17284  Rift Between Officers and Residents as Killing...   \n",
       "2  17285  Tyrus Wong, ‘Bambi’ Artist Thwarted by Racial ...   \n",
       "3  17286  Among Deaths in 2016, a Heavy Toll in Pop Musi...   \n",
       "4  17287  Kim Jong-un Says North Korea Is Preparing to T...   \n",
       "\n",
       "                                             content  \n",
       "0  WASHINGTON  —   Congressional Republicans have...  \n",
       "1  After the bullet shells get counted, the blood...  \n",
       "2  When Walt Disney’s “Bambi” opened in 1942, cri...  \n",
       "3  Death may be the great equalizer, but it isn’t...  \n",
       "4  SEOUL, South Korea  —   North Korea’s leader, ...  "
      ]
     },
     "execution_count": 10,
     "metadata": {},
     "output_type": "execute_result"
    }
   ],
   "source": [
    "# subset the dataframe and get relevant columns\n",
    "df = pd.concat([news, news2])\n",
    "columns = ['id', 'title', 'content']\n",
    "df = df[columns]\n",
    "df_test = df_test[columns]\n",
    "df.head()"
   ]
  },
  {
   "cell_type": "code",
   "execution_count": 18,
   "id": "7a303e72-6d88-4172-98b5-c75848e6eb38",
   "metadata": {},
   "outputs": [
    {
     "data": {
      "text/plain": [
       "92571"
      ]
     },
     "execution_count": 18,
     "metadata": {},
     "output_type": "execute_result"
    }
   ],
   "source": [
    "df.shape[0]"
   ]
  },
  {
   "cell_type": "markdown",
   "id": "b16715c0-481e-4e9a-94f2-7f26b25eb048",
   "metadata": {},
   "source": [
    "### Document Pre-processing\n"
   ]
  },
  {
   "cell_type": "code",
   "execution_count": 12,
   "id": "14be0819-6b84-4882-9554-4ec28e877b90",
   "metadata": {},
   "outputs": [],
   "source": [
    "# function 1\n",
    "def clean_text(text):\n",
    "    \"\"\"\n",
    "    takes a text, remove the words with digits, \n",
    "    replace newline characters with space, remove URLs, \n",
    "    and replace everything that isn’t English alphabets with space.\n",
    "    \"\"\"\n",
    "    text=re.sub('\\w*\\d\\w*','', text)\n",
    "    text=re.sub('\\n',' ',text)\n",
    "    text=re.sub(r\"http\\S+\", \"\", text)\n",
    "    text=re.sub('[^a-z]',' ',text)\n",
    "    return text\n",
    "\n",
    "def lower_case(text):\n",
    "    return text.lower()"
   ]
  },
  {
   "cell_type": "markdown",
   "id": "24cb282a-00bb-4cdf-98ae-581d2ee53124",
   "metadata": {},
   "source": [
    "#### 1. remove capital letters"
   ]
  },
  {
   "cell_type": "code",
   "execution_count": 13,
   "id": "adb84084-82d4-4e28-85ea-b36c27078b66",
   "metadata": {},
   "outputs": [
    {
     "data": {
      "text/html": [
       "<div>\n",
       "<style scoped>\n",
       "    .dataframe tbody tr th:only-of-type {\n",
       "        vertical-align: middle;\n",
       "    }\n",
       "\n",
       "    .dataframe tbody tr th {\n",
       "        vertical-align: top;\n",
       "    }\n",
       "\n",
       "    .dataframe thead th {\n",
       "        text-align: right;\n",
       "    }\n",
       "</style>\n",
       "<table border=\"1\" class=\"dataframe\">\n",
       "  <thead>\n",
       "    <tr style=\"text-align: right;\">\n",
       "      <th></th>\n",
       "      <th>id</th>\n",
       "      <th>title</th>\n",
       "      <th>content</th>\n",
       "      <th>clean</th>\n",
       "    </tr>\n",
       "  </thead>\n",
       "  <tbody>\n",
       "    <tr>\n",
       "      <th>0</th>\n",
       "      <td>17283</td>\n",
       "      <td>House Republicans Fret About Winning Their Hea...</td>\n",
       "      <td>WASHINGTON  —   Congressional Republicans have...</td>\n",
       "      <td>washington  —   congressional republicans have...</td>\n",
       "    </tr>\n",
       "    <tr>\n",
       "      <th>1</th>\n",
       "      <td>17284</td>\n",
       "      <td>Rift Between Officers and Residents as Killing...</td>\n",
       "      <td>After the bullet shells get counted, the blood...</td>\n",
       "      <td>after the bullet shells get counted, the blood...</td>\n",
       "    </tr>\n",
       "  </tbody>\n",
       "</table>\n",
       "</div>"
      ],
      "text/plain": [
       "      id                                              title  \\\n",
       "0  17283  House Republicans Fret About Winning Their Hea...   \n",
       "1  17284  Rift Between Officers and Residents as Killing...   \n",
       "\n",
       "                                             content  \\\n",
       "0  WASHINGTON  —   Congressional Republicans have...   \n",
       "1  After the bullet shells get counted, the blood...   \n",
       "\n",
       "                                               clean  \n",
       "0  washington  —   congressional republicans have...  \n",
       "1  after the bullet shells get counted, the blood...  "
      ]
     },
     "execution_count": 13,
     "metadata": {},
     "output_type": "execute_result"
    }
   ],
   "source": [
    "df['clean'] = df['content'].apply(lambda x: x.lower())\n",
    "df_test['clean'] = df_test['content'].apply(lambda x: x.lower())\n",
    "\n",
    "df.head(2)"
   ]
  },
  {
   "cell_type": "markdown",
   "id": "b1ea30a1-b668-4a13-9c59-0a7b7c5250ec",
   "metadata": {},
   "source": [
    "#### 2. remove urls, words with numbers, newline characters with space"
   ]
  },
  {
   "cell_type": "code",
   "execution_count": 20,
   "id": "062661ae-e417-4f48-a283-8f9004f3bd73",
   "metadata": {},
   "outputs": [
    {
     "data": {
      "text/html": [
       "<div>\n",
       "<style scoped>\n",
       "    .dataframe tbody tr th:only-of-type {\n",
       "        vertical-align: middle;\n",
       "    }\n",
       "\n",
       "    .dataframe tbody tr th {\n",
       "        vertical-align: top;\n",
       "    }\n",
       "\n",
       "    .dataframe thead th {\n",
       "        text-align: right;\n",
       "    }\n",
       "</style>\n",
       "<table border=\"1\" class=\"dataframe\">\n",
       "  <thead>\n",
       "    <tr style=\"text-align: right;\">\n",
       "      <th></th>\n",
       "      <th>id</th>\n",
       "      <th>title</th>\n",
       "      <th>content</th>\n",
       "      <th>clean</th>\n",
       "    </tr>\n",
       "  </thead>\n",
       "  <tbody>\n",
       "    <tr>\n",
       "      <th>0</th>\n",
       "      <td>17283</td>\n",
       "      <td>House Republicans Fret About Winning Their Hea...</td>\n",
       "      <td>WASHINGTON  —   Congressional Republicans have...</td>\n",
       "      <td>washington congressional republicans have a ne...</td>\n",
       "    </tr>\n",
       "    <tr>\n",
       "      <th>1</th>\n",
       "      <td>17284</td>\n",
       "      <td>Rift Between Officers and Residents as Killing...</td>\n",
       "      <td>After the bullet shells get counted, the blood...</td>\n",
       "      <td>after the bullet shells get counted the blood ...</td>\n",
       "    </tr>\n",
       "  </tbody>\n",
       "</table>\n",
       "</div>"
      ],
      "text/plain": [
       "      id                                              title  \\\n",
       "0  17283  House Republicans Fret About Winning Their Hea...   \n",
       "1  17284  Rift Between Officers and Residents as Killing...   \n",
       "\n",
       "                                             content  \\\n",
       "0  WASHINGTON  —   Congressional Republicans have...   \n",
       "1  After the bullet shells get counted, the blood...   \n",
       "\n",
       "                                               clean  \n",
       "0  washington congressional republicans have a ne...  \n",
       "1  after the bullet shells get counted the blood ...  "
      ]
     },
     "execution_count": 20,
     "metadata": {},
     "output_type": "execute_result"
    }
   ],
   "source": [
    "df['clean'] = df['clean'].apply(lambda x: clean_text(x))\n",
    "df_test['clean'] = df_test['clean'].apply(lambda x: clean_text(x))\n",
    "df.head(2)"
   ]
  },
  {
   "cell_type": "markdown",
   "id": "c7b58f64-d123-4ad2-9315-571a95709780",
   "metadata": {},
   "source": [
    "#### 3. remove the extra space that we added\n",
    "        "
   ]
  },
  {
   "cell_type": "code",
   "execution_count": 21,
   "id": "23784315-c154-43b8-aba9-80b0a599e12f",
   "metadata": {},
   "outputs": [
    {
     "data": {
      "text/html": [
       "<div>\n",
       "<style scoped>\n",
       "    .dataframe tbody tr th:only-of-type {\n",
       "        vertical-align: middle;\n",
       "    }\n",
       "\n",
       "    .dataframe tbody tr th {\n",
       "        vertical-align: top;\n",
       "    }\n",
       "\n",
       "    .dataframe thead th {\n",
       "        text-align: right;\n",
       "    }\n",
       "</style>\n",
       "<table border=\"1\" class=\"dataframe\">\n",
       "  <thead>\n",
       "    <tr style=\"text-align: right;\">\n",
       "      <th></th>\n",
       "      <th>id</th>\n",
       "      <th>title</th>\n",
       "      <th>content</th>\n",
       "      <th>clean</th>\n",
       "    </tr>\n",
       "  </thead>\n",
       "  <tbody>\n",
       "    <tr>\n",
       "      <th>0</th>\n",
       "      <td>17283</td>\n",
       "      <td>House Republicans Fret About Winning Their Hea...</td>\n",
       "      <td>WASHINGTON  —   Congressional Republicans have...</td>\n",
       "      <td>washington congressional republicans have a ne...</td>\n",
       "    </tr>\n",
       "    <tr>\n",
       "      <th>1</th>\n",
       "      <td>17284</td>\n",
       "      <td>Rift Between Officers and Residents as Killing...</td>\n",
       "      <td>After the bullet shells get counted, the blood...</td>\n",
       "      <td>after the bullet shells get counted the blood ...</td>\n",
       "    </tr>\n",
       "  </tbody>\n",
       "</table>\n",
       "</div>"
      ],
      "text/plain": [
       "      id                                              title  \\\n",
       "0  17283  House Republicans Fret About Winning Their Hea...   \n",
       "1  17284  Rift Between Officers and Residents as Killing...   \n",
       "\n",
       "                                             content  \\\n",
       "0  WASHINGTON  —   Congressional Republicans have...   \n",
       "1  After the bullet shells get counted, the blood...   \n",
       "\n",
       "                                               clean  \n",
       "0  washington congressional republicans have a ne...  \n",
       "1  after the bullet shells get counted the blood ...  "
      ]
     },
     "execution_count": 21,
     "metadata": {},
     "output_type": "execute_result"
    }
   ],
   "source": [
    "df['clean'] = df['clean'].apply(lambda x: re.sub(' +',' ',x))\n",
    "df_test['clean'] = df_test['clean'].apply(lambda x: re.sub(' +',' ',x))\n",
    "\n",
    "df.head(2)"
   ]
  },
  {
   "cell_type": "markdown",
   "id": "492eee14-9821-43db-902c-3c7cc355caeb",
   "metadata": {},
   "source": [
    "#### 3. Remove stop words"
   ]
  },
  {
   "cell_type": "code",
   "execution_count": 22,
   "id": "d9f427b3-837f-45b7-9a85-e44a3d32ac5e",
   "metadata": {},
   "outputs": [
    {
     "name": "stderr",
     "output_type": "stream",
     "text": [
      "[nltk_data] Downloading package stopwords to\n",
      "[nltk_data]     /Users/brianzuki/nltk_data...\n",
      "[nltk_data]   Package stopwords is already up-to-date!\n"
     ]
    },
    {
     "data": {
      "text/plain": [
       "True"
      ]
     },
     "execution_count": 22,
     "metadata": {},
     "output_type": "execute_result"
    }
   ],
   "source": [
    "from nltk.tokenize import word_tokenize\n",
    "from nltk.corpus import stopwords\n",
    "import nltk\n",
    "nltk.download('stopwords')"
   ]
  },
  {
   "cell_type": "code",
   "execution_count": 23,
   "id": "0e64e594-2735-4bd5-9795-6c340af83957",
   "metadata": {},
   "outputs": [
    {
     "data": {
      "text/html": [
       "<div>\n",
       "<style scoped>\n",
       "    .dataframe tbody tr th:only-of-type {\n",
       "        vertical-align: middle;\n",
       "    }\n",
       "\n",
       "    .dataframe tbody tr th {\n",
       "        vertical-align: top;\n",
       "    }\n",
       "\n",
       "    .dataframe thead th {\n",
       "        text-align: right;\n",
       "    }\n",
       "</style>\n",
       "<table border=\"1\" class=\"dataframe\">\n",
       "  <thead>\n",
       "    <tr style=\"text-align: right;\">\n",
       "      <th></th>\n",
       "      <th>id</th>\n",
       "      <th>title</th>\n",
       "      <th>content</th>\n",
       "      <th>clean</th>\n",
       "      <th>tokens</th>\n",
       "    </tr>\n",
       "  </thead>\n",
       "  <tbody>\n",
       "    <tr>\n",
       "      <th>0</th>\n",
       "      <td>17283</td>\n",
       "      <td>House Republicans Fret About Winning Their Hea...</td>\n",
       "      <td>WASHINGTON  —   Congressional Republicans have...</td>\n",
       "      <td>washington congressional republicans have a ne...</td>\n",
       "      <td>washington congressional republicans new fear ...</td>\n",
       "    </tr>\n",
       "    <tr>\n",
       "      <th>1</th>\n",
       "      <td>17284</td>\n",
       "      <td>Rift Between Officers and Residents as Killing...</td>\n",
       "      <td>After the bullet shells get counted, the blood...</td>\n",
       "      <td>after the bullet shells get counted the blood ...</td>\n",
       "      <td>bullet shells get counted blood dries votive c...</td>\n",
       "    </tr>\n",
       "  </tbody>\n",
       "</table>\n",
       "</div>"
      ],
      "text/plain": [
       "      id                                              title  \\\n",
       "0  17283  House Republicans Fret About Winning Their Hea...   \n",
       "1  17284  Rift Between Officers and Residents as Killing...   \n",
       "\n",
       "                                             content  \\\n",
       "0  WASHINGTON  —   Congressional Republicans have...   \n",
       "1  After the bullet shells get counted, the blood...   \n",
       "\n",
       "                                               clean  \\\n",
       "0  washington congressional republicans have a ne...   \n",
       "1  after the bullet shells get counted the blood ...   \n",
       "\n",
       "                                              tokens  \n",
       "0  washington congressional republicans new fear ...  \n",
       "1  bullet shells get counted blood dries votive c...  "
      ]
     },
     "execution_count": 23,
     "metadata": {},
     "output_type": "execute_result"
    }
   ],
   "source": [
    "# instantiate stopwords list\n",
    "stop_words = stopwords.words(\"english\")\n",
    "\n",
    "def remove_stop_words(txt):\n",
    "    \"\"\"\n",
    "    takes text and turns it into tokens using a word tokenizer\n",
    "    then returns tokens not in the stopword list\n",
    "    \"\"\"\n",
    "    tokens = word_tokenize(txt)\n",
    "    text_with_no_stop_words = [\n",
    "        token for token in tokens if not token in stop_words\n",
    "    ]\n",
    "    txt = \" \".join(text_with_no_stop_words)\n",
    "\n",
    "    return txt\n",
    "\n",
    "df['tokens'] = df['clean'].apply(lambda x: remove_stop_words(x))\n",
    "df_test['tokens'] = df_test['clean'].apply(lambda x: remove_stop_words(x))\n",
    "df.head(2)"
   ]
  },
  {
   "cell_type": "markdown",
   "id": "001fc3ca-06f3-4d40-a582-05045a3ffa70",
   "metadata": {},
   "source": [
    "#### 4. Lemmatize the text"
   ]
  },
  {
   "cell_type": "code",
   "execution_count": 24,
   "id": "e2b69e8f-be1d-4856-adb1-fea36cd4ebea",
   "metadata": {},
   "outputs": [
    {
     "name": "stderr",
     "output_type": "stream",
     "text": [
      "[nltk_data] Downloading package wordnet to\n",
      "[nltk_data]     /Users/brianzuki/nltk_data...\n",
      "[nltk_data]   Package wordnet is already up-to-date!\n"
     ]
    },
    {
     "data": {
      "text/html": [
       "<div>\n",
       "<style scoped>\n",
       "    .dataframe tbody tr th:only-of-type {\n",
       "        vertical-align: middle;\n",
       "    }\n",
       "\n",
       "    .dataframe tbody tr th {\n",
       "        vertical-align: top;\n",
       "    }\n",
       "\n",
       "    .dataframe thead th {\n",
       "        text-align: right;\n",
       "    }\n",
       "</style>\n",
       "<table border=\"1\" class=\"dataframe\">\n",
       "  <thead>\n",
       "    <tr style=\"text-align: right;\">\n",
       "      <th></th>\n",
       "      <th>id</th>\n",
       "      <th>title</th>\n",
       "      <th>content</th>\n",
       "      <th>clean</th>\n",
       "      <th>tokens</th>\n",
       "      <th>lemmatized</th>\n",
       "    </tr>\n",
       "  </thead>\n",
       "  <tbody>\n",
       "    <tr>\n",
       "      <th>0</th>\n",
       "      <td>17283</td>\n",
       "      <td>House Republicans Fret About Winning Their Hea...</td>\n",
       "      <td>WASHINGTON  —   Congressional Republicans have...</td>\n",
       "      <td>washington congressional republicans have a ne...</td>\n",
       "      <td>washington congressional republicans new fear ...</td>\n",
       "      <td>washington congressional republican new fear c...</td>\n",
       "    </tr>\n",
       "    <tr>\n",
       "      <th>1</th>\n",
       "      <td>17284</td>\n",
       "      <td>Rift Between Officers and Residents as Killing...</td>\n",
       "      <td>After the bullet shells get counted, the blood...</td>\n",
       "      <td>after the bullet shells get counted the blood ...</td>\n",
       "      <td>bullet shells get counted blood dries votive c...</td>\n",
       "      <td>bullet shell get counted blood dry votive cand...</td>\n",
       "    </tr>\n",
       "  </tbody>\n",
       "</table>\n",
       "</div>"
      ],
      "text/plain": [
       "      id                                              title  \\\n",
       "0  17283  House Republicans Fret About Winning Their Hea...   \n",
       "1  17284  Rift Between Officers and Residents as Killing...   \n",
       "\n",
       "                                             content  \\\n",
       "0  WASHINGTON  —   Congressional Republicans have...   \n",
       "1  After the bullet shells get counted, the blood...   \n",
       "\n",
       "                                               clean  \\\n",
       "0  washington congressional republicans have a ne...   \n",
       "1  after the bullet shells get counted the blood ...   \n",
       "\n",
       "                                              tokens  \\\n",
       "0  washington congressional republicans new fear ...   \n",
       "1  bullet shells get counted blood dries votive c...   \n",
       "\n",
       "                                          lemmatized  \n",
       "0  washington congressional republican new fear c...  \n",
       "1  bullet shell get counted blood dry votive cand...  "
      ]
     },
     "execution_count": 24,
     "metadata": {},
     "output_type": "execute_result"
    }
   ],
   "source": [
    "nltk.download('wordnet')\n",
    "from nltk.stem import WordNetLemmatizer \n",
    "\n",
    "def lemmatize(txt):\n",
    "    \"\"\"\n",
    "    takes in a clean text without punctuations and lemmatized it\n",
    "    \"\"\"\n",
    "    word_list = nltk.word_tokenize(txt)\n",
    "    # Lemmatize list of words and join\n",
    "    lemmatizer = WordNetLemmatizer()\n",
    "    lemmatized_output = ' '.join([lemmatizer.lemmatize(w) for w in word_list])\n",
    "    return lemmatized_output\n",
    "\n",
    "df['lemmatized'] = df['tokens'].apply(lambda x: lemmatize(x))\n",
    "df_test['lemmatized'] = df_test['tokens'].apply(lambda x: lemmatize(x))\n",
    "df.head(2)\n"
   ]
  },
  {
   "cell_type": "code",
   "execution_count": 25,
   "id": "6d7fbab6-d5df-4ffc-9467-02eb55f3c4a4",
   "metadata": {},
   "outputs": [],
   "source": [
    "def preprocess(data):\n",
    "    data = lower_case(data)\n",
    "    data = clean_text(data)\n",
    "    data = remove_stopwords(data)\n",
    "    data = lemmatize(data)\n",
    "    return data\n"
   ]
  },
  {
   "cell_type": "markdown",
   "id": "63d9689f-c88c-45ec-9a41-18130b513a64",
   "metadata": {},
   "source": [
    "## Creating Vectors\n",
    "In this section, we’ll train our word2vec model and generate vectors for documents and queries in the testing set for information retrieval. But before that, we’ll prepare the dataset for training the word2vec model."
   ]
  },
  {
   "cell_type": "code",
   "execution_count": 26,
   "id": "95fc7d8b-fecc-406c-8ca4-2c4f548d2d7d",
   "metadata": {},
   "outputs": [],
   "source": [
    "from gensim.models import Word2Vec\n",
    "\n",
    "# Creating data for the model training\n",
    "train_data=[]\n",
    "for i in df.reset_index():\n",
    "    train_data.append(i.split())\n",
    "\n",
    "# Training a word2vec model from the given data set\n",
    "w2v_model = Word2Vec(train_data, vector_size=1000, min_count=1, window=3, sg=1,workers=4)"
   ]
  },
  {
   "cell_type": "code",
   "execution_count": null,
   "id": "5ad1f972-0d86-4846-abd4-86f8c8f1fbc0",
   "metadata": {},
   "outputs": [],
   "source": [
    "# save the trained model for later use\n"
   ]
  },
  {
   "cell_type": "code",
   "execution_count": 34,
   "id": "2d556aa4-37d9-4743-b4ab-bf8db3dad923",
   "metadata": {},
   "outputs": [],
   "source": [
    "# Function returning vector reperesentation of a document\n",
    "def get_embedding_w2v(doc_tokens):\n",
    "    embeddings = []\n",
    "    if len(doc_tokens)<1:\n",
    "        return np.zeros(1000) # 300 = vector_size\n",
    "    else:\n",
    "        for tok in doc_tokens:\n",
    "            if tok in w2v_model.wv:\n",
    "                embeddings.append(w2v_model.wv.word_vec(tok))\n",
    "              \n",
    "            else:\n",
    "                embeddings.append(np.random.rand(1000))\n",
    "        # mean the vectors of individual words to get the vector of the document\n",
    "        return np.mean(embeddings, axis=0)"
   ]
  },
  {
   "cell_type": "code",
   "execution_count": 35,
   "id": "02de3878-76c0-4f58-80a9-1c695f89516a",
   "metadata": {},
   "outputs": [
    {
     "data": {
      "text/html": [
       "<div>\n",
       "<style scoped>\n",
       "    .dataframe tbody tr th:only-of-type {\n",
       "        vertical-align: middle;\n",
       "    }\n",
       "\n",
       "    .dataframe tbody tr th {\n",
       "        vertical-align: top;\n",
       "    }\n",
       "\n",
       "    .dataframe thead th {\n",
       "        text-align: right;\n",
       "    }\n",
       "</style>\n",
       "<table border=\"1\" class=\"dataframe\">\n",
       "  <thead>\n",
       "    <tr style=\"text-align: right;\">\n",
       "      <th></th>\n",
       "      <th>id</th>\n",
       "      <th>title</th>\n",
       "      <th>content</th>\n",
       "      <th>clean</th>\n",
       "      <th>tokens</th>\n",
       "      <th>lemmatized</th>\n",
       "      <th>vector</th>\n",
       "    </tr>\n",
       "  </thead>\n",
       "  <tbody>\n",
       "    <tr>\n",
       "      <th>0</th>\n",
       "      <td>17283</td>\n",
       "      <td>House Republicans Fret About Winning Their Hea...</td>\n",
       "      <td>WASHINGTON  —   Congressional Republicans have...</td>\n",
       "      <td>washington congressional republicans have a ne...</td>\n",
       "      <td>washington congressional republicans new fear ...</td>\n",
       "      <td>washington congressional republican new fear c...</td>\n",
       "      <td>[0.496746014399116, 0.48928404110920937, 0.510...</td>\n",
       "    </tr>\n",
       "    <tr>\n",
       "      <th>1</th>\n",
       "      <td>17284</td>\n",
       "      <td>Rift Between Officers and Residents as Killing...</td>\n",
       "      <td>After the bullet shells get counted, the blood...</td>\n",
       "      <td>after the bullet shells get counted the blood ...</td>\n",
       "      <td>bullet shells get counted blood dries votive c...</td>\n",
       "      <td>bullet shell get counted blood dry votive cand...</td>\n",
       "      <td>[0.49361261408773016, 0.5040055327335231, 0.50...</td>\n",
       "    </tr>\n",
       "  </tbody>\n",
       "</table>\n",
       "</div>"
      ],
      "text/plain": [
       "      id                                              title  \\\n",
       "0  17283  House Republicans Fret About Winning Their Hea...   \n",
       "1  17284  Rift Between Officers and Residents as Killing...   \n",
       "\n",
       "                                             content  \\\n",
       "0  WASHINGTON  —   Congressional Republicans have...   \n",
       "1  After the bullet shells get counted, the blood...   \n",
       "\n",
       "                                               clean  \\\n",
       "0  washington congressional republicans have a ne...   \n",
       "1  after the bullet shells get counted the blood ...   \n",
       "\n",
       "                                              tokens  \\\n",
       "0  washington congressional republicans new fear ...   \n",
       "1  bullet shells get counted blood dries votive c...   \n",
       "\n",
       "                                          lemmatized  \\\n",
       "0  washington congressional republican new fear c...   \n",
       "1  bullet shell get counted blood dry votive cand...   \n",
       "\n",
       "                                              vector  \n",
       "0  [0.496746014399116, 0.48928404110920937, 0.510...  \n",
       "1  [0.49361261408773016, 0.5040055327335231, 0.50...  "
      ]
     },
     "execution_count": 35,
     "metadata": {},
     "output_type": "execute_result"
    }
   ],
   "source": [
    "df['vector'] = df['lemmatized'].apply(lambda x :get_embedding_w2v(x.split()))\n",
    "df_test['vector'] = df_test['lemmatized'].apply(lambda x :get_embedding_w2v(x.split()))\n",
    "df.head(2)"
   ]
  },
  {
   "cell_type": "markdown",
   "id": "a31b66d3-9037-49cd-aa7e-6012fd67d3a5",
   "metadata": {},
   "source": [
    "#### making the pipeline"
   ]
  },
  {
   "cell_type": "code",
   "execution_count": 2,
   "id": "c43ce8ce-2a41-4b43-abcd-90683909a640",
   "metadata": {},
   "outputs": [],
   "source": [
    "from sklearn.metrics.pairwise import cosine_similarity\n",
    "def ranking_ir(query):\n",
    "  \n",
    "    # pre-process Query\n",
    "    query = query.lower()\n",
    "    query = clean_text(query)\n",
    "    query = re.sub(' +',' ',query)\n",
    "\n",
    "    # generating vector\n",
    "    vector = get_embedding_w2v(query.split())\n",
    "\n",
    "    # ranking documents\n",
    "    documents=df_test[columns].copy()\n",
    "    documents['similarity'] = df_test['vector'].apply(lambda x: cosine_similarity(np.array(vector).reshape(1, -1),np.array(x).reshape(1, -1)).item())\n",
    "    documents.sort_values(by='similarity',ascending=False,inplace=True)\n",
    "\n",
    "    return documents.head(10).reset_index(drop=True)"
   ]
  },
  {
   "cell_type": "code",
   "execution_count": 3,
   "id": "ed4e0269-48fb-4bd8-b907-f76d26394cf6",
   "metadata": {
    "collapsed": true,
    "jupyter": {
     "outputs_hidden": true
    },
    "tags": []
   },
   "outputs": [
    {
     "ename": "NameError",
     "evalue": "name 'clean_text' is not defined",
     "output_type": "error",
     "traceback": [
      "\u001b[0;31m---------------------------------------------------------------------------\u001b[0m",
      "\u001b[0;31mNameError\u001b[0m                                 Traceback (most recent call last)",
      "Cell \u001b[0;32mIn [3], line 1\u001b[0m\n\u001b[0;32m----> 1\u001b[0m ranks \u001b[38;5;241m=\u001b[39m \u001b[43mranking_ir\u001b[49m\u001b[43m(\u001b[49m\u001b[38;5;124;43m'\u001b[39;49m\u001b[38;5;124;43mlalala\u001b[39;49m\u001b[38;5;124;43m'\u001b[39;49m\u001b[43m)\u001b[49m\n\u001b[1;32m      2\u001b[0m ranks\n",
      "Cell \u001b[0;32mIn [2], line 6\u001b[0m, in \u001b[0;36mranking_ir\u001b[0;34m(query)\u001b[0m\n\u001b[1;32m      2\u001b[0m \u001b[38;5;28;01mdef\u001b[39;00m \u001b[38;5;21mranking_ir\u001b[39m(query):\n\u001b[1;32m      3\u001b[0m   \n\u001b[1;32m      4\u001b[0m     \u001b[38;5;66;03m# pre-process Query\u001b[39;00m\n\u001b[1;32m      5\u001b[0m     query \u001b[38;5;241m=\u001b[39m query\u001b[38;5;241m.\u001b[39mlower()\n\u001b[0;32m----> 6\u001b[0m     query \u001b[38;5;241m=\u001b[39m \u001b[43mclean_text\u001b[49m(query)\n\u001b[1;32m      7\u001b[0m     query \u001b[38;5;241m=\u001b[39m re\u001b[38;5;241m.\u001b[39msub(\u001b[38;5;124m'\u001b[39m\u001b[38;5;124m +\u001b[39m\u001b[38;5;124m'\u001b[39m,\u001b[38;5;124m'\u001b[39m\u001b[38;5;124m \u001b[39m\u001b[38;5;124m'\u001b[39m,query)\n\u001b[1;32m      9\u001b[0m     \u001b[38;5;66;03m# generating vector\u001b[39;00m\n",
      "\u001b[0;31mNameError\u001b[0m: name 'clean_text' is not defined"
     ]
    }
   ],
   "source": [
    "ranks = ranking_ir('machine learning and the advent of artificial intelligence')\n",
    "ranks\n"
   ]
  }
 ],
 "metadata": {
  "kernelspec": {
   "display_name": "Python 3 (ipykernel)",
   "language": "python",
   "name": "python3"
  },
  "language_info": {
   "codemirror_mode": {
    "name": "ipython",
    "version": 3
   },
   "file_extension": ".py",
   "mimetype": "text/x-python",
   "name": "python",
   "nbconvert_exporter": "python",
   "pygments_lexer": "ipython3",
   "version": "3.10.6"
  }
 },
 "nbformat": 4,
 "nbformat_minor": 5
}
