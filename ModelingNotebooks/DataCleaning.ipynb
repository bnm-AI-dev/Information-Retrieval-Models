{
 "cells": [
  {
   "cell_type": "code",
   "execution_count": 1,
   "id": "75213f88-0a59-4113-9052-160903e73891",
   "metadata": {},
   "outputs": [],
   "source": [
    "import pandas as pd\n",
    "import numpy as np"
   ]
  },
  {
   "cell_type": "code",
   "execution_count": 17,
   "id": "0b32e8a8-5647-4db9-ba14-d04ded692c4e",
   "metadata": {},
   "outputs": [],
   "source": [
    "# read in the data\n",
    "news1 = pd.read_csv('data/articles1.csv')\n",
    "news2 = pd.read_csv('data/articles2.csv')\n",
    "news3 = pd.read_csv('data/articles3.csv')"
   ]
  },
  {
   "cell_type": "code",
   "execution_count": 19,
   "id": "27cb5536-99ed-41a5-bcfe-737306acf17f",
   "metadata": {},
   "outputs": [
    {
     "name": "stdout",
     "output_type": "stream",
     "text": [
      "\n",
      "Our training set has 99999 documents in it\n",
      "\n",
      "Our test set has 42571 documents in it\n",
      "\n",
      "Total number of rows in articles 1 and articles 2 is 99999 rows\n"
     ]
    }
   ],
   "source": [
    "# get the columns of interest\n",
    "columns = ['id', 'title', 'content']\n",
    "# subset with relevant columns\n",
    "news1 = news1[columns]\n",
    "news2 = news2[columns]\n",
    "test = news3[columns]\n",
    "# \n",
    "train_data = pd.concat([news1, news2])\n",
    "\n",
    "print(f'\\nOur training set has {train_data.shape[0]} documents in it')\n",
    "print(f'\\nOur test set has {test.shape[0]} documents in it\\n')\n",
    "print(f'Total number of rows in articles 1 and articles 2 is {news1.shape[0] + news2.shape[0]} rows')"
   ]
  },
  {
   "cell_type": "code",
   "execution_count": 16,
   "id": "9ac118aa-1be4-46d0-94f8-19e92d9c976b",
   "metadata": {},
   "outputs": [
    {
     "data": {
      "text/html": [
       "<div>\n",
       "<style scoped>\n",
       "    .dataframe tbody tr th:only-of-type {\n",
       "        vertical-align: middle;\n",
       "    }\n",
       "\n",
       "    .dataframe tbody tr th {\n",
       "        vertical-align: top;\n",
       "    }\n",
       "\n",
       "    .dataframe thead th {\n",
       "        text-align: right;\n",
       "    }\n",
       "</style>\n",
       "<table border=\"1\" class=\"dataframe\">\n",
       "  <thead>\n",
       "    <tr style=\"text-align: right;\">\n",
       "      <th></th>\n",
       "      <th>id</th>\n",
       "      <th>title</th>\n",
       "      <th>content</th>\n",
       "    </tr>\n",
       "  </thead>\n",
       "  <tbody>\n",
       "    <tr>\n",
       "      <th>0</th>\n",
       "      <td>17283</td>\n",
       "      <td>House Republicans Fret About Winning Their Hea...</td>\n",
       "      <td>WASHINGTON  —   Congressional Republicans have...</td>\n",
       "    </tr>\n",
       "    <tr>\n",
       "      <th>1</th>\n",
       "      <td>17284</td>\n",
       "      <td>Rift Between Officers and Residents as Killing...</td>\n",
       "      <td>After the bullet shells get counted, the blood...</td>\n",
       "    </tr>\n",
       "    <tr>\n",
       "      <th>2</th>\n",
       "      <td>17285</td>\n",
       "      <td>Tyrus Wong, ‘Bambi’ Artist Thwarted by Racial ...</td>\n",
       "      <td>When Walt Disney’s “Bambi” opened in 1942, cri...</td>\n",
       "    </tr>\n",
       "    <tr>\n",
       "      <th>3</th>\n",
       "      <td>17286</td>\n",
       "      <td>Among Deaths in 2016, a Heavy Toll in Pop Musi...</td>\n",
       "      <td>Death may be the great equalizer, but it isn’t...</td>\n",
       "    </tr>\n",
       "    <tr>\n",
       "      <th>4</th>\n",
       "      <td>17287</td>\n",
       "      <td>Kim Jong-un Says North Korea Is Preparing to T...</td>\n",
       "      <td>SEOUL, South Korea  —   North Korea’s leader, ...</td>\n",
       "    </tr>\n",
       "  </tbody>\n",
       "</table>\n",
       "</div>"
      ],
      "text/plain": [
       "      id                                              title  \\\n",
       "0  17283  House Republicans Fret About Winning Their Hea...   \n",
       "1  17284  Rift Between Officers and Residents as Killing...   \n",
       "2  17285  Tyrus Wong, ‘Bambi’ Artist Thwarted by Racial ...   \n",
       "3  17286  Among Deaths in 2016, a Heavy Toll in Pop Musi...   \n",
       "4  17287  Kim Jong-un Says North Korea Is Preparing to T...   \n",
       "\n",
       "                                             content  \n",
       "0  WASHINGTON  —   Congressional Republicans have...  \n",
       "1  After the bullet shells get counted, the blood...  \n",
       "2  When Walt Disney’s “Bambi” opened in 1942, cri...  \n",
       "3  Death may be the great equalizer, but it isn’t...  \n",
       "4  SEOUL, South Korea  —   North Korea’s leader, ...  "
      ]
     },
     "execution_count": 16,
     "metadata": {},
     "output_type": "execute_result"
    }
   ],
   "source": [
    "# visual inspection of the data\n",
    "train_data.head()"
   ]
  },
  {
   "cell_type": "code",
   "execution_count": 21,
   "id": "7ac6feb0-1026-4327-8b54-db2da2aeaa2e",
   "metadata": {},
   "outputs": [],
   "source": [
    "# save into a csv for easy use and loading\n",
    "train_data.to_csv('train_data.csv', index=False)\n",
    "test.to_csv('test_data.csv', index=False)"
   ]
  },
  {
   "cell_type": "code",
   "execution_count": null,
   "id": "a73636b6-2533-4a39-86a8-8b72371cfeb4",
   "metadata": {},
   "outputs": [],
   "source": []
  }
 ],
 "metadata": {
  "kernelspec": {
   "display_name": "Python 3 (ipykernel)",
   "language": "python",
   "name": "python3"
  },
  "language_info": {
   "codemirror_mode": {
    "name": "ipython",
    "version": 3
   },
   "file_extension": ".py",
   "mimetype": "text/x-python",
   "name": "python",
   "nbconvert_exporter": "python",
   "pygments_lexer": "ipython3",
   "version": "3.10.6"
  }
 },
 "nbformat": 4,
 "nbformat_minor": 5
}
